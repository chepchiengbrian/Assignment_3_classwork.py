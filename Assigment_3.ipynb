{
  "nbformat": 4,
  "nbformat_minor": 0,
  "metadata": {
    "colab": {
      "provenance": [],
      "authorship_tag": "ABX9TyMWrZnqUhOSB5w3lmpXTdOR",
      "include_colab_link": true
    },
    "kernelspec": {
      "name": "python3",
      "display_name": "Python 3"
    },
    "language_info": {
      "name": "python"
    }
  },
  "cells": [
    {
      "cell_type": "markdown",
      "metadata": {
        "id": "view-in-github",
        "colab_type": "text"
      },
      "source": [
        "<a href=\"https://colab.research.google.com/github/chepchiengbrian/Assignment_3_classwork.py/blob/main/Assigment_3.ipynb\" target=\"_parent\"><img src=\"https://colab.research.google.com/assets/colab-badge.svg\" alt=\"Open In Colab\"/></a>"
      ]
    },
    {
      "cell_type": "markdown",
      "source": [
        "# ASSIGNMENT 1\n",
        "\n",
        "---\n",
        "\n",
        "**Question 1**\n",
        "Consider the following assessment criteria which map a score out of 100 to an assessment grade:\n",
        "\n",
        "Grade      \tRaw score (/100)\n",
        "\n",
        "---\n",
        "\n",
        "\n",
        "Excellent\t ≥85\n",
        "Very good\t ≥76.5\n",
        "  and  <85\n",
        "Good\t ≥64  and  <76.5\n",
        "Need improvement\t ≥40  and  <64\n",
        "Did you try?\t <40\n",
        "Write a program that, given an a score, prints the appropriate grade. Print an error message if the input score is greater than 100 or less than zero."
      ],
      "metadata": {
        "id": "FmMjkeIj07Mh"
      }
    },
    {
      "cell_type": "code",
      "source": [
        "def grade (score):\n",
        "\n",
        "  if score < 0 or score > 100:\n",
        "    return\n",
        "  if score >= 85:\n",
        "    return \"Excellent\"\n",
        "  elif score >= 76.5:\n",
        "    return \"Very good\"\n",
        "  elif score >= 64:\n",
        "    return \"Good\"\n",
        "  elif score >= 40:\n",
        "    return \"Need improvement\"\n",
        "  elif score < 40:\n",
        "    return \"Did you try?\"\n",
        "\n",
        "# score from user\n",
        "score = 72\n",
        "print  (f\"The grade for score {score} is {grade(score)}\")"
      ],
      "metadata": {
        "id": "1a-UUYUR1WCE",
        "colab": {
          "base_uri": "https://localhost:8080/"
        },
        "outputId": "afb893c6-38bb-4a01-b706-c746ef6e6d11"
      },
      "execution_count": null,
      "outputs": [
        {
          "output_type": "stream",
          "name": "stdout",
          "text": [
            "The grade for score 72 is Good\n"
          ]
        }
      ]
    },
    {
      "cell_type": "markdown",
      "source": [
        "**Question 2a**\n",
        "\n",
        "\n",
        "---\n",
        "Bisection is an iterative method for finding approximate roots of a function. Say we know that the function  f(x)  has one root between  x0  and  x1  ( x0<x1 ). We then:\n",
        "\n",
        "Evaluate  f  at the midpoint  xmid=(x0+x1)/2 , i.e. compute  fmid=f(xmid)\n",
        "\n",
        "Evaluate  f(x0)⋅f(xmid)\n",
        "\n",
        "if  f(x0)⋅f(xmid)<0 :\n",
        "\n",
        "f  must change sign somewhere between  x0  and  xmid , hence the root must lie between  x0  and  xmid , so set  x1=xmid .\n",
        "\n",
        "else:\n",
        "\n",
        "f  must change sign somewhere between  xmid  and  x1 , so set  x0=xmid .\n",
        "\n",
        "The above steps can be repeated a specified number of times, or until  |fmid|  is below a tolerance, with  xmid  being the approximate root.\n",
        "\n",
        "Task\n",
        "The function\n",
        "\n",
        "f(x)=x510+x3−10x2+4x+7\n",
        "\n",
        "has one root in the range  0<x<2 .\n",
        "\n",
        "Use the bisection method to find an approximate root  xr  using 20 iterations (use a for loop).\n",
        "\n"
      ],
      "metadata": {
        "id": "fZSHRDzXF8Z5"
      }
    },
    {
      "cell_type": "code",
      "source": [
        "# Initial end points\n",
        "x0 = 0.0\n",
        "x1 = 2.0\n",
        "\n",
        "# Use 20 iterations\n",
        "for n in range(20):\n",
        "    # Compute midpoint\n",
        "    x_mid = (x0 + x1) / 2\n",
        "\n",
        "    # Evaluate function at (i) left end-point and at (ii) midpoint\n",
        "    f0 = (x0**5) / 10 + x0**3 - 10 * x0**2 + 4 * x0 + 7\n",
        "    f = (x_mid**5) / 10 + x_mid**3 - 10 * x_mid**2 + 4 * x_mid + 7\n",
        "\n",
        "    if f0 * f < 0:\n",
        "        x1 = x_mid  # Root is in the left half\n",
        "    else:\n",
        "        x0 = x_mid  # Root is in the right half\n",
        "\n",
        "\n",
        "print(n, x_mid, f)"
      ],
      "metadata": {
        "colab": {
          "base_uri": "https://localhost:8080/"
        },
        "id": "K5Uq28LvGv51",
        "outputId": "80204edc-7b14-42b5-8838-9c807a8168ba"
      },
      "execution_count": null,
      "outputs": [
        {
          "output_type": "stream",
          "name": "stdout",
          "text": [
            "19 1.1568355560302734 -1.304116775457942e-06\n"
          ]
        }
      ]
    },
    {
      "cell_type": "markdown",
      "source": [
        "**Question 2b**\n",
        "\n",
        "---\n",
        "While loop\n",
        "\n"
      ],
      "metadata": {
        "id": "b6MWDs_cJo5i"
      }
    },
    {
      "cell_type": "code",
      "source": [
        "# Initial end points\n",
        "x0 = 0.0\n",
        "x1 = 2.0\n",
        "\n",
        "tol = 1.0e-6\n",
        "error = tol + 1.0\n",
        "\n",
        "# Iterate until tolerance is met\n",
        "counter = 0\n",
        "while error > tol:\n",
        "    # Compute midpoint\n",
        "    x_mid = (x0 + x1) / 2\n",
        "\n",
        "    # Evaluate function at midpoint\n",
        "    f_mid = (x_mid**5) / 10 + x_mid**3 - 10 * x_mid**2 + 4 * x_mid + 7\n",
        "\n",
        "    # Calculate error\n",
        "    error = abs(f_mid)\n",
        "\n",
        "    # Check the sign of f(x0) * f(x_mid)\n",
        "    if ((x0**5) / 10 + x0**3 - 10 * x0**2 + 4 * x0 + 7) * f_mid < 0:\n",
        "        x1 = x_mid  # Root is in the left half\n",
        "    else:\n",
        "        x0 = x_mid  # Root is in the right half\n",
        "\n",
        "    # Increment counter\n",
        "    counter += 1\n",
        "\n",
        "    # Guard against an infinite loop\n",
        "    if counter > 20:\n",
        "        print(\"Oops, iteration count is very large. Breaking out of while loop.\")\n",
        "        break\n",
        "\n",
        "    print(counter, x_mid, error)\n",
        "\n",
        "print(f\"Approximate root: {x_mid}\")\n",
        "print(f\"Number of iterations: {counter}\")"
      ],
      "metadata": {
        "colab": {
          "base_uri": "https://localhost:8080/"
        },
        "id": "vZD88HvzXMMv",
        "outputId": "eef212ba-bb62-4e1a-e7b2-94883ca47d0a"
      },
      "execution_count": 17,
      "outputs": [
        {
          "output_type": "stream",
          "name": "stdout",
          "text": [
            "1 1.0 2.0999999999999996\n",
            "2 1.5 5.365625000000001\n",
            "3 1.25 1.36669921875\n",
            "4 1.125 0.4477813720703132\n",
            "5 1.1875 0.4408627510070797\n",
            "6 1.15625 0.008327355980872753\n",
            "7 1.171875 0.21507753478363156\n",
            "8 1.1640625 0.1030741602036862\n",
            "9 1.16015625 0.04729774910292761\n",
            "10 1.158203125 0.019466230897839054\n",
            "11 1.1572265625 0.005564689502373099\n",
            "12 1.15673828125 0.0013825210451265946\n",
            "13 1.156982421875 0.0020907873792292975\n",
            "14 1.1568603515625 0.00035405894194262544\n",
            "15 1.15679931640625 0.0005142496094645566\n",
            "16 1.156829833984375 8.009997302949046e-05\n",
            "17 1.1568450927734375 0.00013697832466341708\n",
            "18 1.1568374633789062 2.8438885864900953e-05\n",
            "19 1.1568336486816406 2.5830616070976475e-05\n",
            "20 1.1568355560302734 1.304116775457942e-06\n",
            "Oops, iteration count is very large. Breaking out of while loop.\n",
            "Approximate root: 1.156834602355957\n",
            "Number of iterations: 21\n"
          ]
        }
      ]
    },
    {
      "cell_type": "markdown",
      "source": [
        "**Question 3a**\n",
        "\n",
        "\n",
        "---\n",
        "For  |x|<1  the series:\n",
        "\n",
        "(1+x)−1/2=∑n=0∞(−1)n(2n)!4n(n!)2xn\n",
        "\n",
        "converges.\n",
        "\n",
        "Using a for statement, approximate  1/0.16−−−−√  using 30 terms in the series expansion and report the absolute error.\n",
        "\n",
        "\n"
      ],
      "metadata": {
        "id": "Omu_8IAjaMau"
      }
    },
    {
      "cell_type": "code",
      "source": [
        "import math\n",
        "\n",
        "# Given expression is 1/sqrt(0.16), which can be written as (1 + x)^(-1/2)\n",
        "# where x = -0.84 (since 1 + x = 0.16)\n",
        "x = -0.84\n",
        "\n",
        "# Number of terms in the series expansion\n",
        "num_terms = 30\n",
        "\n",
        "# Initialize the approximation\n",
        "approximation = 0.0\n",
        "\n",
        "# Calculate the series expansion\n",
        "for n in range(num_terms):\n",
        "    numerator = math.factorial(2 * n)\n",
        "    denominator = (4**n) * (math.factorial(n) ** 2)\n",
        "    term = ((-1) ** n) * (numerator / denominator) * (x ** n)\n",
        "    approximation += term\n",
        "\n",
        "# Calculate the actual value using Python's math.sqrt()\n",
        "actual_value = 1 / math.sqrt(0.16)\n",
        "\n",
        "# Calculate the absolute error\n",
        "error = abs(approximation - actual_value)\n",
        "\n",
        "# Print the results\n",
        "print(f\"Approximation: {approximation}\")\n",
        "print(f\"Actual Value: {actual_value}\")\n",
        "print(f\"Absolute Error: {error}\")\n",
        "\n",
        "# Test the error\n",
        "assert error < 1.0e-2\n"
      ],
      "metadata": {
        "colab": {
          "base_uri": "https://localhost:8080/"
        },
        "id": "sH4RHOKRcgjA",
        "outputId": "3c666466-f039-4961-818f-dd8a53c66b67"
      },
      "execution_count": 18,
      "outputs": [
        {
          "output_type": "stream",
          "name": "stdout",
          "text": [
            "Approximation: 2.4968078104263016\n",
            "Actual Value: 2.5\n",
            "Absolute Error: 0.0031921895736983785\n"
          ]
        }
      ]
    },
    {
      "cell_type": "markdown",
      "source": [
        "**Question 3b**\n",
        "\n",
        "---\n",
        "\n",
        "While loop"
      ],
      "metadata": {
        "id": "Vq561JK1gQy-"
      }
    },
    {
      "cell_type": "code",
      "source": [
        "import math\n",
        "\n",
        "# Value of x (such that (1 - x) = 0.16  => (1+x)^(-1/2) )\n",
        "x = -0.84\n",
        "\n",
        "# Tolerance and initial error (this just needs to be larger than tol)\n",
        "tol = 1.0e-5\n",
        "error = tol + 1.0\n",
        "\n",
        "# Initialise approximation of function\n",
        "approx_f = 0.0\n",
        "\n",
        "# Initialise counter\n",
        "n = 0\n",
        "\n",
        "# Loop until error satisfies tolerance, with a check to avoid\n",
        "# an infinite loop\n",
        "while error > tol and n < 1000:\n",
        "    numerator = math.factorial(2 * n)\n",
        "    denominator = (4**n) * (math.factorial(n) ** 2)\n",
        "    term = ((-1) ** n) * (numerator / denominator) * (x ** n)\n",
        "    approx_f += term\n",
        "\n",
        "    # Calculate the actual value using Python's math.sqrt()\n",
        "    actual_value = 1 / math.sqrt(0.16)\n",
        "    error = abs(approx_f - actual_value)\n",
        "\n",
        "    # Increment counter\n",
        "    n += 1\n",
        "\n",
        "\n",
        "print(\"\\nThe error is:\", error)\n",
        "print(\"Number of terms in series:\", n)\n",
        "print(\"Approximation:\", approx_f)\n",
        "print(\"Actual value:\", actual_value)\n"
      ],
      "metadata": {
        "colab": {
          "base_uri": "https://localhost:8080/"
        },
        "id": "p-CJBqTngnLS",
        "outputId": "0db65e3b-b133-4b32-a53e-42ec230c7cd2"
      },
      "execution_count": 20,
      "outputs": [
        {
          "output_type": "stream",
          "name": "stdout",
          "text": [
            "\n",
            "The error is: 8.689878570500298e-06\n",
            "Number of terms in series: 62\n",
            "Approximation: 2.4999913101214295\n",
            "Actual value: 2.5\n"
          ]
        }
      ]
    },
    {
      "cell_type": "code",
      "source": [],
      "metadata": {
        "id": "tVAQCXtfqZxC"
      },
      "execution_count": null,
      "outputs": []
    }
  ]
}